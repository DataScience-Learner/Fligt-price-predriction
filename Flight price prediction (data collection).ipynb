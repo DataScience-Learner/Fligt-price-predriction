{
 "cells": [
  {
   "cell_type": "code",
   "execution_count": 1,
   "metadata": {},
   "outputs": [],
   "source": [
    "from selenium import webdriver\n",
    "from selenium.webdriver.common.keys import Keys\n",
    "import time\n",
    "import pandas as pd # Importing the required libraries\n",
    "from selenium.webdriver.common.by import By\n",
    "from selenium.webdriver.support.ui import WebDriverWait\n",
    "from selenium.webdriver.support import expected_conditions as EC\n",
    "from selenium.common.exceptions import NoSuchElementException"
   ]
  },
  {
   "cell_type": "code",
   "execution_count": 2,
   "metadata": {},
   "outputs": [],
   "source": [
    "PATH = \"C:\\Program Files (x86)\\chromedriver.exe\" # Defining path"
   ]
  },
  {
   "cell_type": "markdown",
   "metadata": {},
   "source": [
    "This is the list of 9 most popular airpot codes in india. the data will be scraped for all these cities out going and incoming.\n",
    "\n",
    "The cities included are (in order):\n",
    "\n",
    "- Delhi\n",
    "- Bombay\n",
    "- Bengaluru\n",
    "- Chennai\n",
    "- Kolkata\n",
    "- Hydrebad\n",
    "- Cochin\n",
    "- Ahemdabad\n",
    "- Pune"
   ]
  },
  {
   "cell_type": "code",
   "execution_count": 3,
   "metadata": {},
   "outputs": [],
   "source": [
    "city_dep = ['DEL','BOM','BLR','MAA','CCU','HYD','COK','AMD','PNQ'] \n",
    "city_arr = ['DEL','BOM','BLR','MAA','CCU','HYD','COK','AMD','PNQ']"
   ]
  },
  {
   "cell_type": "code",
   "execution_count": 4,
   "metadata": {},
   "outputs": [],
   "source": [
    "driver = webdriver.Chrome(PATH)\n",
    "driver.get(\"https://www.makemytrip.com/flight/search?itinerary=DEL-BLR-07/12/2021&tripType=O&paxType=A-1_C-0_I-0&intl=false&cabinClass=E&ccde=IN&lang=eng\")\n",
    "\n",
    "time.sleep(2) # Going to link\n",
    "driver.set_window_size(1024, 600)\n",
    "driver.maximize_window() # Maximizing the window"
   ]
  },
  {
   "cell_type": "markdown",
   "metadata": {},
   "source": [
    "This piece of code below, finds the input box for departure city and inputs one city code from the list defined above"
   ]
  },
  {
   "cell_type": "code",
   "execution_count": 5,
   "metadata": {},
   "outputs": [],
   "source": [
    "def from_city(city_1): \n",
    "    \n",
    "    take_city = driver.find_element_by_xpath(\"//input[@id='fromCity']\").click()\n",
    "    time.sleep(1)\n",
    "\n",
    "    search_bar = driver.find_element_by_xpath('//*[@id=\"search-widget\"]/div/div[2]/div[1]/form/div/input')\n",
    "\n",
    "    search_bar.send_keys(Keys.CONTROL, 'a')                 # Clear previous entry\n",
    "    search_bar.send_keys(Keys.BACKSPACE)\n",
    "    search_bar.send_keys(city_1)                            # Type in one city name from the list (loop next)\n",
    "    time.sleep(1)\n",
    "\n",
    "\n",
    "\n",
    "    to_click = driver.find_element_by_xpath(\"//li[@id='react-autowhatever-1-section-0-item-0']\")\n",
    "    to_click.click()\n",
    "\n",
    "    time.sleep(1)\n"
   ]
  },
  {
   "cell_type": "markdown",
   "metadata": {},
   "source": [
    "This piece of code below, finds the input box for departure city and eneters one of the cities from the list, it also slects the date of travel."
   ]
  },
  {
   "cell_type": "code",
   "execution_count": 6,
   "metadata": {},
   "outputs": [],
   "source": [
    "def to_city(city_2):\n",
    "\n",
    "    search_bar = driver.find_element_by_xpath(\"//*[@id='search-widget']/div/div[4]/div[1]/form/div/input\")\n",
    "\n",
    "    search_bar.send_keys(Keys.CONTROL, 'a')                    # Clear previous entry\n",
    "    search_bar.send_keys(Keys.BACKSPACE)\n",
    "    search_bar.send_keys(city_2)                               # Type in one city name from the list (loop next)\n",
    "    time.sleep(1)\n",
    "\n",
    "\n",
    "\n",
    "    to_click = driver.find_element_by_xpath(\"//li[@id='react-autowhatever-1-section-0-item-0']\")\n",
    "    to_click.click()\n",
    "\n",
    "    day_sel =  driver.find_element_by_xpath('//*[@id=\"search-widget\"]/div/div[5]/div[1]/div/div/div/div/div[2]/div[1]/div[3]/div[2]/div[3]')\n",
    "    day_sel.click() # Day sel might change \n",
    "\n",
    "    time.sleep(1)\n",
    "\n",
    "    search_but = driver.find_element_by_xpath('//*[@id=\"search-button\"]')\n",
    "    search_but.click()\n"
   ]
  },
  {
   "cell_type": "markdown",
   "metadata": {},
   "source": [
    "Sometimes a pop-up opens on the make my trip page, and this piece of code closes if said pop up appears."
   ]
  },
  {
   "cell_type": "code",
   "execution_count": 7,
   "metadata": {},
   "outputs": [],
   "source": [
    "def close_if_pop_up():\n",
    "    try:\n",
    "        element = WebDriverWait(driver, 10).until(\n",
    "            EC.presence_of_element_located((By.CLASS-NAME, \"bgProperties icon20 overlayCrossIcon\"))\n",
    "        )\n",
    "        close_but = driver.find_element_by_xpath('//*[@id=\"root\"]/div/div[2]/div[2]/div[2]/div/span')\n",
    "        close_but.click()\n",
    "\n",
    "    except:\n",
    "        pass\n"
   ]
  },
  {
   "cell_type": "markdown",
   "metadata": {},
   "source": [
    "A function to append the text element from a web element to a list."
   ]
  },
  {
   "cell_type": "code",
   "execution_count": 8,
   "metadata": {},
   "outputs": [],
   "source": [
    "def append(path,list_): # This is a function I have created which will be used throughout the assignment to not repeat same piece of code again and again\n",
    "    for i in path:\n",
    "        list_.append(i.text)   # This function basically iterates the text from each element from seleenium driver and appends it to the list provided."
   ]
  },
  {
   "cell_type": "markdown",
   "metadata": {},
   "source": [
    "To load all flight, a scroll down to the bottom of the page is required, the below piece of code does that."
   ]
  },
  {
   "cell_type": "code",
   "execution_count": 9,
   "metadata": {},
   "outputs": [],
   "source": [
    "def scroll_down():\n",
    "    for i in range(5):\n",
    "        driver.execute_script(\"window.scrollTo(0, 9999)\") \n",
    "        time.sleep(0.5)"
   ]
  },
  {
   "cell_type": "markdown",
   "metadata": {},
   "source": [
    "Initiating empty list to append the data to."
   ]
  },
  {
   "cell_type": "code",
   "execution_count": 10,
   "metadata": {},
   "outputs": [],
   "source": [
    "airline_ = []\n",
    "cities_ = []\n",
    "times_ = []\n",
    "stops_ = []\n",
    "price_ = []"
   ]
  },
  {
   "cell_type": "markdown",
   "metadata": {},
   "source": [
    "The below piece of code goes through every possible combination between the departure and arrival city.\n",
    "\n",
    "In total there are 9 cities, so there are a total of 9x8 route combinations, i.e. 72"
   ]
  },
  {
   "cell_type": "code",
   "execution_count": 11,
   "metadata": {},
   "outputs": [
    {
     "name": "stdout",
     "output_type": "stream",
     "text": [
      "Finding flights from DEL to BOM.\n",
      "88 176 176 88 88\n",
      "Finding flights from DEL to BLR.\n",
      "155 310 310 155 155\n",
      "Finding flights from DEL to MAA.\n",
      "155 310 310 155 155\n",
      "Finding flights from DEL to CCU.\n",
      "213 426 426 213 213\n",
      "Finding flights from DEL to HYD.\n",
      "261 522 522 261 261\n",
      "Finding flights from DEL to COK.\n",
      "296 592 592 296 296\n",
      "Finding flights from DEL to AMD.\n",
      "332 664 664 332 332\n",
      "Finding flights from DEL to PNQ.\n",
      "368 736 736 368 368\n",
      "Finding flights from BOM to DEL.\n",
      "453 906 906 453 453\n",
      "Finding flights from BOM to BLR.\n",
      "512 1024 1024 512 512\n",
      "Finding flights from BOM to MAA.\n",
      "555 1110 1110 555 555\n",
      "Finding flights from BOM to CCU.\n",
      "604 1208 1208 604 604\n",
      "Finding flights from BOM to HYD.\n",
      "639 1278 1278 639 639\n",
      "Finding flights from BOM to COK.\n",
      "671 1342 1342 671 671\n",
      "Finding flights from BOM to AMD.\n",
      "703 1406 1406 703 703\n",
      "Finding flights from BOM to PNQ.\n",
      "722 1444 1444 722 722\n",
      "Finding flights from BLR to DEL.\n",
      "785 1570 1570 785 785\n",
      "Finding flights from BLR to BOM.\n",
      "836 1672 1672 836 836\n",
      "Finding flights from BLR to MAA.\n",
      "858 1716 1716 858 858\n",
      "Finding flights from BLR to CCU.\n",
      "913 1826 1826 913 913\n",
      "Finding flights from BLR to HYD.\n",
      "950 1900 1900 950 950\n",
      "Finding flights from BLR to COK.\n",
      "972 1944 1944 972 972\n",
      "Finding flights from BLR to AMD.\n",
      "1011 2022 2022 1011 1011\n",
      "Finding flights from BLR to PNQ.\n",
      "1048 2096 2096 1048 1048\n",
      "Finding flights from MAA to DEL.\n",
      "1087 2174 2174 1087 1087\n",
      "Finding flights from MAA to BOM.\n",
      "1127 2254 2254 1127 1127\n",
      "Finding flights from MAA to BLR.\n",
      "1157 2314 2314 1157 1157\n",
      "Finding flights from MAA to CCU.\n",
      "1187 2374 2374 1187 1187\n",
      "Finding flights from MAA to HYD.\n",
      "1217 2434 2434 1217 1217\n",
      "Finding flights from MAA to COK.\n",
      "1238 2476 2476 1238 1238\n",
      "Finding flights from MAA to AMD.\n",
      "1264 2528 2528 1264 1264\n",
      "Finding flights from MAA to PNQ.\n",
      "1289 2578 2578 1289 1289\n",
      "Finding flights from CCU to DEL.\n",
      "1335 2670 2670 1335 1335\n",
      "Finding flights from CCU to BOM.\n",
      "1369 2738 2738 1369 1369\n",
      "Finding flights from CCU to BLR.\n",
      "1408 2816 2816 1408 1408\n",
      "Finding flights from CCU to MAA.\n",
      "1435 2870 2870 1435 1435\n",
      "Finding flights from CCU to HYD.\n",
      "1459 2918 2918 1459 1459\n",
      "Finding flights from CCU to COK.\n",
      "1484 2968 2968 1484 1484\n",
      "Finding flights from CCU to AMD.\n",
      "1517 3034 3034 1517 1517\n",
      "Finding flights from CCU to PNQ.\n",
      "1548 3096 3096 1548 1548\n",
      "Finding flights from HYD to DEL.\n",
      "1585 3170 3170 1585 1585\n",
      "Finding flights from HYD to BOM.\n",
      "1617 3234 3234 1617 1617\n",
      "Finding flights from HYD to BLR.\n",
      "1651 3302 3302 1651 1651\n",
      "Finding flights from HYD to MAA.\n",
      "1678 3356 3356 1678 1678\n",
      "Finding flights from HYD to CCU.\n",
      "1709 3418 3418 1709 1709\n",
      "Finding flights from HYD to COK.\n",
      "1735 3470 3470 1735 1735\n",
      "Finding flights from HYD to AMD.\n",
      "1752 3504 3504 1752 1752\n",
      "Finding flights from HYD to PNQ.\n",
      "1773 3546 3546 1773 1773\n",
      "Finding flights from COK to DEL.\n",
      "1795 3590 3590 1795 1795\n",
      "Finding flights from COK to BOM.\n",
      "1813 3626 3626 1813 1813\n",
      "Finding flights from COK to BLR.\n",
      "1832 3664 3664 1832 1832\n",
      "Finding flights from COK to MAA.\n",
      "1851 3702 3702 1851 1851\n",
      "Finding flights from COK to CCU.\n",
      "1871 3742 3742 1871 1871\n",
      "Finding flights from COK to HYD.\n",
      "1891 3782 3782 1891 1891\n",
      "Finding flights from COK to AMD.\n",
      "1907 3814 3814 1907 1907\n",
      "Finding flights from COK to PNQ.\n",
      "1920 3840 3840 1920 1920\n",
      "Finding flights from AMD to DEL.\n",
      "1949 3898 3898 1949 1949\n",
      "Finding flights from AMD to BOM.\n",
      "1978 3956 3956 1978 1978\n",
      "Finding flights from AMD to BLR.\n",
      "2005 4010 4010 2005 2005\n",
      "Finding flights from AMD to MAA.\n",
      "2028 4056 4056 2028 2028\n",
      "Finding flights from AMD to CCU.\n",
      "2050 4100 4100 2050 2050\n",
      "Finding flights from AMD to HYD.\n",
      "2075 4150 4150 2075 2075\n",
      "Finding flights from AMD to COK.\n",
      "2096 4192 4192 2096 2096\n",
      "Finding flights from AMD to PNQ.\n",
      "2114 4228 4228 2114 2114\n",
      "Finding flights from PNQ to DEL.\n",
      "2200 4400 4400 2200 2200\n",
      "Finding flights from PNQ to BOM.\n",
      "2217 4434 4434 2217 2217\n",
      "Finding flights from PNQ to BLR.\n",
      "2246 4492 4492 2246 2246\n",
      "Finding flights from PNQ to MAA.\n",
      "2268 4536 4536 2268 2268\n",
      "Finding flights from PNQ to CCU.\n",
      "2291 4582 4582 2291 2291\n",
      "Finding flights from PNQ to HYD.\n",
      "2307 4614 4614 2307 2307\n",
      "Finding flights from PNQ to COK.\n",
      "2325 4650 4650 2325 2325\n",
      "Finding flights from PNQ to AMD.\n",
      "2345 4690 4690 2345 2345\n"
     ]
    }
   ],
   "source": [
    "for departure in city_dep:\n",
    "    for arrival in city_arr:\n",
    "        \n",
    "        if departure == arrival:\n",
    "            continue\n",
    "        else:\n",
    "            print(\"Finding flights from \" + departure + \" to \" + arrival + '.')\n",
    "            \n",
    "            from_city(departure)\n",
    "            time.sleep(1)\n",
    "            \n",
    "            to_city(arrival)\n",
    "            time.sleep(3)\n",
    "                       \n",
    "            close_if_pop_up()\n",
    "            \n",
    "            scroll_down()\n",
    "            \n",
    "            airline = driver.find_elements_by_xpath(\"//div[@class='makeFlex align-items-center  ']/span\")    \n",
    "            cities = driver.find_elements_by_xpath(\"//p[@class='darkText']\")\n",
    "            times = driver.find_elements_by_xpath(\"//p[@class='blackText fontSize18 blackFont appendBottom2 makeFlex hrtlCenter']\")\n",
    "            stops = driver.find_elements_by_xpath(\"//p[@class='flightsLayoverInfo']\")\n",
    "            price = driver.find_elements_by_xpath(\"//p[@class='blackText fontSize18 blackFont white-space-no-wrap']\")\n",
    "            \n",
    "            time.sleep(1)\n",
    "                      \n",
    "            append(airline,airline_)\n",
    "            append(cities,cities_)\n",
    "            append(times,times_)\n",
    "            append(stops,stops_)\n",
    "            append(price,price_)\n",
    "            \n",
    "            print(len(airline_),len(cities_),len(times_),len(stops_),len(price_))\n",
    "\n",
    "            \n",
    "            "
   ]
  },
  {
   "cell_type": "code",
   "execution_count": 12,
   "metadata": {},
   "outputs": [
    {
     "name": "stdout",
     "output_type": "stream",
     "text": [
      "Current Time = 19:59\n"
     ]
    }
   ],
   "source": [
    "from datetime import datetime\n",
    "\n",
    "now = datetime.now()\n",
    "\n",
    "current_time = now.strftime(\"%H:%M\")\n",
    "print(\"Current Time =\", current_time)"
   ]
  },
  {
   "cell_type": "markdown",
   "metadata": {},
   "source": [
    "Some of the data contains empty data, the below code will be used to remove that empty data."
   ]
  },
  {
   "cell_type": "code",
   "execution_count": 15,
   "metadata": {},
   "outputs": [],
   "source": [
    "def clean_list(list_):\n",
    "    while('' in list_) : # Run in end for all list\n",
    "        list_.remove('')    "
   ]
  },
  {
   "cell_type": "markdown",
   "metadata": {},
   "source": [
    "Removing empty data"
   ]
  },
  {
   "cell_type": "code",
   "execution_count": 16,
   "metadata": {},
   "outputs": [],
   "source": [
    "clean_list(airline_)\n",
    "clean_list(cities_)\n",
    "clean_list(times_)\n",
    "clean_list(stops_)\n",
    "clean_list(price_)"
   ]
  },
  {
   "cell_type": "markdown",
   "metadata": {},
   "source": [
    "Checkign length of lists, as some of the data for two elements, e.g. departure and arrival time is contained in a single list, it will have to be divided into two."
   ]
  },
  {
   "cell_type": "code",
   "execution_count": 17,
   "metadata": {},
   "outputs": [
    {
     "name": "stdout",
     "output_type": "stream",
     "text": [
      "1553 3106 3106 1553 1553\n"
     ]
    }
   ],
   "source": [
    "print(len(airline_),len(cities_),len(times_),len(stops_),len(price_))"
   ]
  },
  {
   "cell_type": "markdown",
   "metadata": {},
   "source": [
    "New lists for time and city."
   ]
  },
  {
   "cell_type": "code",
   "execution_count": 18,
   "metadata": {},
   "outputs": [],
   "source": [
    "dep_time = []\n",
    "arr_time = []\n",
    "dep_city = []\n",
    "arr_city = [] "
   ]
  },
  {
   "cell_type": "markdown",
   "metadata": {},
   "source": [
    "Dividing the city and times accordingly in order."
   ]
  },
  {
   "cell_type": "code",
   "execution_count": 19,
   "metadata": {},
   "outputs": [],
   "source": [
    "for i in range(0,len(cities_),2):\n",
    "    dep_city.append(cities_[i])\n",
    "    \n",
    "for i in range(1,len(cities_),2):\n",
    "    arr_city.append(cities_[i])\n",
    "    \n",
    "    \n",
    "for i in range(0,len(times_),2):\n",
    "    dep_time.append(times_[i])\n",
    "    \n",
    "for i in range(1,len(times_),2):\n",
    "    arr_time.append(times_[i])"
   ]
  },
  {
   "cell_type": "markdown",
   "metadata": {},
   "source": [
    "Now we have exact length of all lists and a df can be created."
   ]
  },
  {
   "cell_type": "code",
   "execution_count": 20,
   "metadata": {},
   "outputs": [
    {
     "name": "stdout",
     "output_type": "stream",
     "text": [
      "1553 1553 1553 1553 1553 1553 1553\n"
     ]
    }
   ],
   "source": [
    "print(len(airline_),len(dep_city),len(arr_city),len(dep_time),len(arr_time),len(stops_),len(price_))"
   ]
  },
  {
   "cell_type": "code",
   "execution_count": 22,
   "metadata": {},
   "outputs": [],
   "source": [
    "flight_df = pd.DataFrame({})\n",
    "flight_df['Airline name'] = airline_\n",
    "flight_df['Departure city'] = dep_city\n",
    "flight_df['Arrival city'] = arr_city\n",
    "flight_df['Departure time'] = dep_time\n",
    "flight_df['Arrival time'] = arr_time\n",
    "flight_df['Total stops'] = stops_\n",
    "flight_df['Price'] = price_"
   ]
  },
  {
   "cell_type": "code",
   "execution_count": 23,
   "metadata": {},
   "outputs": [
    {
     "data": {
      "text/html": [
       "<div>\n",
       "<style scoped>\n",
       "    .dataframe tbody tr th:only-of-type {\n",
       "        vertical-align: middle;\n",
       "    }\n",
       "\n",
       "    .dataframe tbody tr th {\n",
       "        vertical-align: top;\n",
       "    }\n",
       "\n",
       "    .dataframe thead th {\n",
       "        text-align: right;\n",
       "    }\n",
       "</style>\n",
       "<table border=\"1\" class=\"dataframe\">\n",
       "  <thead>\n",
       "    <tr style=\"text-align: right;\">\n",
       "      <th></th>\n",
       "      <th>Airline name</th>\n",
       "      <th>Departure city</th>\n",
       "      <th>Arrival city</th>\n",
       "      <th>Departure time</th>\n",
       "      <th>Arrival time</th>\n",
       "      <th>Total stops</th>\n",
       "      <th>Price</th>\n",
       "    </tr>\n",
       "  </thead>\n",
       "  <tbody>\n",
       "    <tr>\n",
       "      <th>0</th>\n",
       "      <td>AirAsia</td>\n",
       "      <td>New Delhi</td>\n",
       "      <td>Mumbai</td>\n",
       "      <td>09:35</td>\n",
       "      <td>20:35</td>\n",
       "      <td>1 stop via Bengaluru</td>\n",
       "      <td>₹ 5,953</td>\n",
       "    </tr>\n",
       "    <tr>\n",
       "      <th>1</th>\n",
       "      <td>Go First</td>\n",
       "      <td>New Delhi</td>\n",
       "      <td>Mumbai</td>\n",
       "      <td>02:00</td>\n",
       "      <td>04:15</td>\n",
       "      <td>Non stop</td>\n",
       "      <td>₹ 5,954</td>\n",
       "    </tr>\n",
       "    <tr>\n",
       "      <th>2</th>\n",
       "      <td>Go First</td>\n",
       "      <td>New Delhi</td>\n",
       "      <td>Mumbai</td>\n",
       "      <td>07:00</td>\n",
       "      <td>09:10</td>\n",
       "      <td>Non stop</td>\n",
       "      <td>₹ 5,954</td>\n",
       "    </tr>\n",
       "    <tr>\n",
       "      <th>3</th>\n",
       "      <td>Go First</td>\n",
       "      <td>New Delhi</td>\n",
       "      <td>Mumbai</td>\n",
       "      <td>08:00</td>\n",
       "      <td>10:10</td>\n",
       "      <td>Non stop</td>\n",
       "      <td>₹ 5,954</td>\n",
       "    </tr>\n",
       "    <tr>\n",
       "      <th>4</th>\n",
       "      <td>Go First</td>\n",
       "      <td>New Delhi</td>\n",
       "      <td>Mumbai</td>\n",
       "      <td>10:30</td>\n",
       "      <td>12:50</td>\n",
       "      <td>Non stop</td>\n",
       "      <td>₹ 5,954</td>\n",
       "    </tr>\n",
       "  </tbody>\n",
       "</table>\n",
       "</div>"
      ],
      "text/plain": [
       "  Airline name Departure city Arrival city Departure time Arrival time  \\\n",
       "0      AirAsia      New Delhi       Mumbai          09:35        20:35   \n",
       "1     Go First      New Delhi       Mumbai          02:00        04:15   \n",
       "2     Go First      New Delhi       Mumbai          07:00        09:10   \n",
       "3     Go First      New Delhi       Mumbai          08:00        10:10   \n",
       "4     Go First      New Delhi       Mumbai          10:30        12:50   \n",
       "\n",
       "            Total stops    Price  \n",
       "0  1 stop via Bengaluru  ₹ 5,953  \n",
       "1              Non stop  ₹ 5,954  \n",
       "2              Non stop  ₹ 5,954  \n",
       "3              Non stop  ₹ 5,954  \n",
       "4              Non stop  ₹ 5,954  "
      ]
     },
     "execution_count": 23,
     "metadata": {},
     "output_type": "execute_result"
    }
   ],
   "source": [
    "flight_df.head()"
   ]
  },
  {
   "cell_type": "code",
   "execution_count": 24,
   "metadata": {},
   "outputs": [
    {
     "data": {
      "text/html": [
       "<div>\n",
       "<style scoped>\n",
       "    .dataframe tbody tr th:only-of-type {\n",
       "        vertical-align: middle;\n",
       "    }\n",
       "\n",
       "    .dataframe tbody tr th {\n",
       "        vertical-align: top;\n",
       "    }\n",
       "\n",
       "    .dataframe thead th {\n",
       "        text-align: right;\n",
       "    }\n",
       "</style>\n",
       "<table border=\"1\" class=\"dataframe\">\n",
       "  <thead>\n",
       "    <tr style=\"text-align: right;\">\n",
       "      <th></th>\n",
       "      <th>Airline name</th>\n",
       "      <th>Departure city</th>\n",
       "      <th>Arrival city</th>\n",
       "      <th>Departure time</th>\n",
       "      <th>Arrival time</th>\n",
       "      <th>Total stops</th>\n",
       "      <th>Price</th>\n",
       "    </tr>\n",
       "  </thead>\n",
       "  <tbody>\n",
       "    <tr>\n",
       "      <th>1548</th>\n",
       "      <td>Air India</td>\n",
       "      <td>Pune</td>\n",
       "      <td>Ahmedabad</td>\n",
       "      <td>12:35</td>\n",
       "      <td>19:25</td>\n",
       "      <td>2 stop via Bhopal,New Delhi</td>\n",
       "      <td>₹ 10,998</td>\n",
       "    </tr>\n",
       "    <tr>\n",
       "      <th>1549</th>\n",
       "      <td>Spicejet</td>\n",
       "      <td>Pune</td>\n",
       "      <td>Ahmedabad</td>\n",
       "      <td>08:40</td>\n",
       "      <td>10:05</td>\n",
       "      <td>Non stop</td>\n",
       "      <td>₹ 11,102</td>\n",
       "    </tr>\n",
       "    <tr>\n",
       "      <th>1550</th>\n",
       "      <td>Air India</td>\n",
       "      <td>Pune</td>\n",
       "      <td>Ahmedabad</td>\n",
       "      <td>18:50</td>\n",
       "      <td>06:20</td>\n",
       "      <td>1 stop via New Delhi</td>\n",
       "      <td>₹ 14,253</td>\n",
       "    </tr>\n",
       "    <tr>\n",
       "      <th>1551</th>\n",
       "      <td>Air India</td>\n",
       "      <td>Pune</td>\n",
       "      <td>Ahmedabad</td>\n",
       "      <td>12:35</td>\n",
       "      <td>06:20</td>\n",
       "      <td>2 stop via Bhopal,New Delhi</td>\n",
       "      <td>₹ 16,305</td>\n",
       "    </tr>\n",
       "    <tr>\n",
       "      <th>1552</th>\n",
       "      <td>Air India</td>\n",
       "      <td>Pune</td>\n",
       "      <td>Ahmedabad</td>\n",
       "      <td>07:40</td>\n",
       "      <td>19:25</td>\n",
       "      <td>1 stop via New Delhi</td>\n",
       "      <td>₹ 16,353</td>\n",
       "    </tr>\n",
       "  </tbody>\n",
       "</table>\n",
       "</div>"
      ],
      "text/plain": [
       "     Airline name Departure city Arrival city Departure time Arrival time  \\\n",
       "1548    Air India           Pune    Ahmedabad          12:35        19:25   \n",
       "1549     Spicejet           Pune    Ahmedabad          08:40        10:05   \n",
       "1550    Air India           Pune    Ahmedabad          18:50        06:20   \n",
       "1551    Air India           Pune    Ahmedabad          12:35        06:20   \n",
       "1552    Air India           Pune    Ahmedabad          07:40        19:25   \n",
       "\n",
       "                      Total stops     Price  \n",
       "1548  2 stop via Bhopal,New Delhi  ₹ 10,998  \n",
       "1549                     Non stop  ₹ 11,102  \n",
       "1550         1 stop via New Delhi  ₹ 14,253  \n",
       "1551  2 stop via Bhopal,New Delhi  ₹ 16,305  \n",
       "1552         1 stop via New Delhi  ₹ 16,353  "
      ]
     },
     "execution_count": 24,
     "metadata": {},
     "output_type": "execute_result"
    }
   ],
   "source": [
    "flight_df.tail()"
   ]
  },
  {
   "cell_type": "markdown",
   "metadata": {},
   "source": [
    "Saving data to csv."
   ]
  },
  {
   "cell_type": "code",
   "execution_count": 25,
   "metadata": {},
   "outputs": [],
   "source": [
    "flight_df.to_csv('flight_data.csv') # Saving the dataframe as .csv"
   ]
  },
  {
   "cell_type": "code",
   "execution_count": 31,
   "metadata": {},
   "outputs": [],
   "source": [
    "driver.quit()"
   ]
  }
 ],
 "metadata": {
  "kernelspec": {
   "display_name": "Python 3",
   "language": "python",
   "name": "python3"
  },
  "language_info": {
   "codemirror_mode": {
    "name": "ipython",
    "version": 3
   },
   "file_extension": ".py",
   "mimetype": "text/x-python",
   "name": "python",
   "nbconvert_exporter": "python",
   "pygments_lexer": "ipython3",
   "version": "3.8.5"
  }
 },
 "nbformat": 4,
 "nbformat_minor": 4
}
